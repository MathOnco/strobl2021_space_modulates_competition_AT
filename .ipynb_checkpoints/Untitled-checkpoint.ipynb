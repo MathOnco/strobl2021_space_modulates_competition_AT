{
 "cells": [
  {
   "cell_type": "markdown",
   "id": "3960728d",
   "metadata": {},
   "source": [
    "# Debugging convexity calculation"
   ]
  },
  {
   "cell_type": "code",
   "execution_count": 22,
   "id": "363d4a84",
   "metadata": {},
   "outputs": [],
   "source": [
    "import cv2\n",
    "import os\n",
    "import matplotlib.pyplot as plt\n",
    "import seaborn as sns\n",
    "%matplotlib inline\n"
   ]
  },
  {
   "cell_type": "code",
   "execution_count": 65,
   "id": "2cf53ba0",
   "metadata": {},
   "outputs": [
    {
     "ename": "error",
     "evalue": "OpenCV(4.5.2) /private/var/folders/24/8k48jl6d249_n_qfxwsl6xvm0000gn/T/pip-req-build-0qgvqkwh/opencv/modules/imgproc/src/drawing.cpp:2490: error: (-215:Assertion failed) 0 <= contourIdx && contourIdx < (int)last in function 'drawContours'\n",
     "output_type": "error",
     "traceback": [
      "\u001b[0;31m---------------------------------------------------------------------------\u001b[0m",
      "\u001b[0;31merror\u001b[0m                                     Traceback (most recent call last)",
      "\u001b[0;32m<ipython-input-65-7aee6798ae1c>\u001b[0m in \u001b[0;36m<module>\u001b[0;34m\u001b[0m\n\u001b[1;32m     41\u001b[0m \u001b[0;34m\u001b[0m\u001b[0m\n\u001b[1;32m     42\u001b[0m         \u001b[0mdrawing\u001b[0m \u001b[0;34m=\u001b[0m \u001b[0mnp\u001b[0m\u001b[0;34m.\u001b[0m\u001b[0mzeros\u001b[0m\u001b[0;34m(\u001b[0m\u001b[0;34m(\u001b[0m\u001b[0;34m*\u001b[0m\u001b[0mcurrImg\u001b[0m\u001b[0;34m.\u001b[0m\u001b[0mshape\u001b[0m\u001b[0;34m,\u001b[0m \u001b[0;36m3\u001b[0m\u001b[0;34m)\u001b[0m\u001b[0;34m,\u001b[0m \u001b[0mnp\u001b[0m\u001b[0;34m.\u001b[0m\u001b[0muint8\u001b[0m\u001b[0;34m)\u001b[0m\u001b[0;34m\u001b[0m\u001b[0;34m\u001b[0m\u001b[0m\n\u001b[0;32m---> 43\u001b[0;31m         \u001b[0mcv2\u001b[0m\u001b[0;34m.\u001b[0m\u001b[0mdrawContours\u001b[0m\u001b[0;34m(\u001b[0m\u001b[0mdrawing\u001b[0m\u001b[0;34m,\u001b[0m \u001b[0mcontours\u001b[0m\u001b[0;34m[\u001b[0m\u001b[0;36m0\u001b[0m\u001b[0;34m]\u001b[0m\u001b[0;34m,\u001b[0m \u001b[0mnestId\u001b[0m\u001b[0;34m,\u001b[0m \u001b[0;34m(\u001b[0m\u001b[0;36m0\u001b[0m\u001b[0;34m,\u001b[0m \u001b[0;36m255\u001b[0m\u001b[0;34m,\u001b[0m \u001b[0;36m0\u001b[0m\u001b[0;34m)\u001b[0m\u001b[0;34m,\u001b[0m \u001b[0;36m1\u001b[0m\u001b[0;34m,\u001b[0m \u001b[0;36m8\u001b[0m\u001b[0;34m,\u001b[0m \u001b[0mcontours\u001b[0m\u001b[0;34m[\u001b[0m\u001b[0;36m1\u001b[0m\u001b[0;34m]\u001b[0m\u001b[0;34m)\u001b[0m\u001b[0;34m\u001b[0m\u001b[0;34m\u001b[0m\u001b[0m\n\u001b[0m\u001b[1;32m     44\u001b[0m \u001b[0;34m\u001b[0m\u001b[0m\n\u001b[1;32m     45\u001b[0m         \u001b[0;31m# Compute its convexity\u001b[0m\u001b[0;34m\u001b[0m\u001b[0;34m\u001b[0m\u001b[0;34m\u001b[0m\u001b[0m\n",
      "\u001b[0;31merror\u001b[0m: OpenCV(4.5.2) /private/var/folders/24/8k48jl6d249_n_qfxwsl6xvm0000gn/T/pip-req-build-0qgvqkwh/opencv/modules/imgproc/src/drawing.cpp:2490: error: (-215:Assertion failed) 0 <= contourIdx && contourIdx < (int)last in function 'drawContours'\n"
     ]
    },
    {
     "data": {
      "image/png": "[encoded data removed]",
      "text/plain": [
       "<Figure size 432x288 with 1 Axes>"
      ]
     },
     "metadata": {
      "needs_background": "light"
     },
     "output_type": "display_data"
    },
    {
     "data": {
      "image/png": "[encoded data removed]",
      "text/plain": [
       "<Figure size 432x288 with 1 Axes>"
      ]
     },
     "metadata": {
      "needs_background": "light"
     },
     "output_type": "display_data"
    }
   ],
   "source": [
    "# Load image\n",
    "outDir = \"./data_nestCounting/\"\n",
    "imgDir = os.path.join(outDir, \"tmp/\")\n",
    "txName = \"MTD\"\n",
    "cost = 0\n",
    "rFrac = 0.001\n",
    "initialSize = 0.25\n",
    "dt = 1.\n",
    "replicateId = 0\n",
    "timePoint = 150\n",
    "\n",
    "currImgDir = os.path.join(imgDir, \"%s_cost_%1.1f_rFrac_%.2g_initSize_%.2g_dt_%1.1f_RepId_%d\" % (txName, cost * 100, rFrac, initialSize, dt, replicateId))\n",
    "convexityList = []\n",
    "meanDist = np.nan\n",
    "if os.path.isfile(os.path.join(currImgDir, \"img_t_%.1f.png\" % (float(timePoint)))):\n",
    "    currImg = cv2.imread(os.path.join(currImgDir, \"img_t_%.1f.png\" % (float(timePoint))))\n",
    "    currImg[currImg[:, :, 2] == 117, :] = [0, 0, 0]  # Remove sensitive cells\n",
    "    currImg = cv2.cvtColor(currImg, cv2.COLOR_RGB2GRAY)\n",
    "\n",
    "    # 1. Identify the number of nests\n",
    "    num_labels, labels, stats, centroids = cv2.connectedComponentsWithStats(currImg)\n",
    "    nNests = num_labels-1\n",
    "    label_hue = np.uint8(179 * labels / np.max(labels))\n",
    "    blank_ch = 255 * np.ones_like(label_hue)\n",
    "    labeled_img = cv.merge([label_hue, blank_ch, blank_ch])\n",
    "    labeled_img = cv.cvtColor(labeled_img, cv.COLOR_HSV2BGR)\n",
    "    labeled_img[label_hue == 0] = 0\n",
    "    \n",
    "    # Plot the image\n",
    "#     cv2.drawContours(labeled_img, tmpList, -1, (255, 0, 0), 1) \n",
    "    plt.imshow(labeled_img)\n",
    "#     currAx.axis('off')\n",
    "    \n",
    "    # 3. Compute the convexity\n",
    "    for nestId in range(1, nNests + 1):\n",
    "        currNest = labels.copy()\n",
    "        currNest[currNest != nestId] = 0\n",
    "        # Find the boundary of the nest which will be the largest contour\n",
    "        contours = cv2.findContours(currNest, cv2.RETR_FLOODFILL, cv2.CHAIN_APPROX_NONE)\n",
    "        nestContour = contours[1][np.array([len(c) for c in contours[1]]).argmax()]\n",
    "                \n",
    "        # Compute its convexity\n",
    "        hull = cv2.convexHull(nestContour, returnPoints=True)\n",
    "#         cv2.drawContours(drawing, hull, nestId, (0, 0, 255), 1, 8)\n",
    "        \n",
    "        plt.figure()\n",
    "        drawing = np.zeros((*currImg.shape, 3), np.uint8)\n",
    "        cv2.drawContours(drawing, contours[0], nestId, (0, 255, 0), 1, 8, contours[1])\n",
    "        plt.imshow(drawing)\n",
    "\n",
    "#         perimeter_nest = cv2.arcLength(nestContour, closed=True)\n",
    "#         perimeter_convexHull = cv2.arcLength(hull, closed=True)\n",
    "#         convexityList.append(perimeter_convexHull / perimeter_nest)"
   ]
  },
  {
   "cell_type": "code",
   "execution_count": 45,
   "id": "b45f1a6e",
   "metadata": {},
   "outputs": [
    {
     "data": {
      "text/plain": [
       "<matplotlib.image.AxesImage at 0x7fe863df65c0>"
      ]
     },
     "execution_count": 45,
     "metadata": {},
     "output_type": "execute_result"
    },
    {
     "data": {
      "image/png": "[encoded data removed]",
      "text/plain": [
       "<Figure size 432x288 with 1 Axes>"
      ]
     },
     "metadata": {
      "needs_background": "light"
     },
     "output_type": "display_data"
    }
   ],
   "source": [
    "plt.imshow(currNest)"
   ]
  },
  {
   "cell_type": "code",
   "execution_count": null,
   "id": "f1454129",
   "metadata": {},
   "outputs": [],
   "source": [
    "imgDir = \"./abm/onLatticeCA/data/sweep_noCost_withTurnover_images/\"\n",
    "currRFrac = 0.001\n",
    "currInitialSize = 0.75\n",
    "replicateId = 692\n",
    "timePointList = [600]\n",
    "\n",
    "fig,axList = plt.subplots(2,len(timePointList),figsize=(len(timePointList)*5,10))\n",
    "for i,timePoint in enumerate(timePointList):\n",
    "    for j,txName in enumerate([\"MTD\",\"AT50\"]):\n",
    "        # Load image\n",
    "        currImgDir = os.path.join(imgDir,\"%s_rFrac_%.2g_initSize_%.2g_dt_1.0_RepId_%d\"%(txName,currRFrac,currInitialSize,replicateId))\n",
    "        currImg = cv2.imread(os.path.join(currImgDir,\"img_t_%.1f.png\"%(float(timePoint))))\n",
    "        currImg[currImg[:,:,2] == 117,:] = [0,0,0] # Remove sensitive cells\n",
    "        currImg = cv2.cvtColor(currImg, cv2.COLOR_RGB2GRAY)\n",
    "        \n",
    "        num_labels, labels, stats, centroids = cv.connectedComponentsWithStats(currImg)\n",
    "        label_hue = np.uint8(179 * labels / np.max(labels))\n",
    "        blank_ch = 255 * np.ones_like(label_hue)\n",
    "        labeled_img = cv.merge([label_hue, blank_ch, blank_ch])\n",
    "        labeled_img = cv.cvtColor(labeled_img, cv.COLOR_HSV2BGR)\n",
    "        labeled_img[label_hue == 0] = 0\n",
    "\n",
    "        nNests = num_labels-1\n",
    "        tmpList = []\n",
    "        for nestId in range(1,nNests+1):\n",
    "            currNest=labels.copy()\n",
    "            currNest[currNest!=nestId] = 0\n",
    "            # Find the perimeter which will be the largest contour\n",
    "            contours = cv2.findContours(currNest, cv2.RETR_FLOODFILL, cv2.CHAIN_APPROX_NONE)        \n",
    "            nestContour = contours[1][np.array([len(c) for c in contours[1]]).argmax()]\n",
    "\n",
    "            # Compute its eccentricity\n",
    "            m = cv2.moments(nestContour)\n",
    "            eccentricity = ((m['mu20']-m['mu02'])**2-4*m['mu11']**2)/(m['mu20']+m['mu02'])**2\n",
    "            print(eccentricity)\n",
    "            \n",
    "            # Compute its convexity\n",
    "            hull = cv2.convexHull(nestContour,returnPoints=True)\n",
    "            perimeter_nest = cv2.arcLength(nestContour,closed=True)\n",
    "            perimeter_convexHull = cv2.arcLength(hull,closed=True)\n",
    "            convexity = perimeter_convexHull/perimeter_nest\n",
    "            \n",
    "\n",
    "#             hull = cv2.convexHull(nestContour,returnPoints = False)\n",
    "#             defects = cv2.convexityDefects(perimeter,hull)\n",
    "\n",
    "#             ellipse = cv2.fitEllipse(perimeter)\n",
    "#             cv2.ellipse(labeled_img,ellipse,(0,255,0),2)\n",
    "#             ellipse = cv2.fitEllipse(perimeter)\n",
    "#             cv2.ellipse(labeled_img,ellipse,(0,255,0),2)\n",
    "\n",
    "\n",
    "            for i in range(defects.shape[0]):\n",
    "                s,e,f,d = defects[i,0]\n",
    "                start = tuple(perimeter[s][0])\n",
    "                end = tuple(perimeter[e][0])\n",
    "                far = tuple(perimeter[f][0])\n",
    "                cv2.line(labeled_img,start,end,[0,255,0],2)\n",
    "#                 cv2.circle(labeled_img,far,5,[0,0,255],-1)\n",
    "\n",
    "            tmpList.append(perimeter)\n",
    "                \n",
    "\n",
    "\n",
    "        # Plot the image\n",
    "        cv2.drawContours(labeled_img, tmpList, -1, (255, 0, 0), 1) \n",
    "        currAx = axList[j]\n",
    "        currAx.imshow(labeled_img)\n",
    "        currAx.axis('off')"
   ]
  }
 ],
 "metadata": {
  "kernelspec": {
   "display_name": "Python [conda env:py3.6] *",
   "language": "python",
   "name": "conda-env-py3.6-py"
  },
  "language_info": {
   "codemirror_mode": {
    "name": "ipython",
    "version": 3
   },
   "file_extension": ".py",
   "mimetype": "text/x-python",
   "name": "python",
   "nbconvert_exporter": "python",
   "pygments_lexer": "ipython3",
   "version": "3.6.10"
  },
  "varInspector": {
   "cols": {
    "lenName": 16,
    "lenType": 16,
    "lenVar": 40
   },
   "kernels_config": {
    "python": {
     "delete_cmd_postfix": "",
     "delete_cmd_prefix": "del ",
     "library": "var_list.py",
     "varRefreshCmd": "print(var_dic_list())"
    },
    "r": {
     "delete_cmd_postfix": ") ",
     "delete_cmd_prefix": "rm(",
     "library": "var_list.r",
     "varRefreshCmd": "cat(var_dic_list()) "
    }
   },
   "position": {
    "height": "589.492px",
    "left": "1585px",
    "right": "20px",
    "top": "120px",
    "width": "427.5px"
   },
   "types_to_exclude": [
    "module",
    "function",
    "builtin_function_or_method",
    "instance",
    "_Feature"
   ],
   "window_display": true
  }
 },
 "nbformat": 4,
 "nbformat_minor": 5
}
